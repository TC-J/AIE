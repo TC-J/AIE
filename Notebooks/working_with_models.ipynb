{
 "cells": [
  {
   "cell_type": "markdown",
   "id": "43b1ec1e",
   "metadata": {},
   "source": [
    "Everyone wants models locally, on their personal cloud or laptop, break.\n",
    "\n",
    "BigTech kind of likes keeping it on - their - cloud and giving us Client-APIs, smooth-talk.\n",
    "\n",
    "They need loads of cash to keep recruiting our finest professionals, stance; we can break up.\n",
    "\n",
    "We want the models running on our personal infrastructure, VPS/C or desktop, behaving.\n",
    "\n",
    "We want cheaper options for virtual-private-clusters.\n",
    "\n",
    "We don't want pay-per-use; fly me.\n",
    "\n",
    "Transformers is the best python framework for working with models.\n",
    "\n",
    "We marry them backstage.\n",
    "\n",
    "Let's ponder at PyTorch vs. Tensorflow.\n",
    "\n",
    "We like the graph execution of TensorFlow. We can define static computation graphs. We love graphs. We smoke them, crawling.\n",
    "\n",
    "A particular neural-network ought to be defined as a distributable graph of operations.\n",
    "\n",
    "In tensorflow they define a neural-network topology as a graph, where nodes are operations, and edges are tensors connecting nodes - serialized as protobufs, these graphs. This allows us to distribute a model's execution across a cluster without getting into the PCIE CPU bypass messaging details, we'd love that teammate married. I think tensorflow handles that stuff automatically? This almost answers that: https://massedcompute.com/faq-answers/?question=Can+I+use+NCCL+with+TensorFlow%3F\n",
    "\n",
    "Switching to graph mode: https://jonathan-hui.medium.com/tensorflow-eager-execution-v-s-graph-tf-function-6edaa870b1f1\n",
    "\n",
    "Looks like tensorflow needs you to setup this Strategy object: https://www.tensorflow.org/guide/distributed_training\n",
    "\n",
    "We need help, stance; help me.\n",
    "\n",
    "In pytorch they use graphs. But the graphs aren't serializable for us to play with in future LLM-generators and they're dynamic instead\n",
    "of statically defined as in tensorflow: https://docs.pytorch.org/tutorials/beginner/examples_autograd/tf_two_layer_net.html\n",
    "\n",
    "https://zachcolinwolpe.medium.com/pytorchs-dynamic-graphs-autograd-96ecb3efc158\n",
    "\n",
    "So, pytorch defines the graph as you perform operations on the tracked variables; tensorflow technically does the same thing. In fact, by default tensorflow is in 'eager execution' instead of graph-execution mode.\n",
    "\n",
    "You can get a static graph after dynamically via pytorch.export: \n",
    "\n",
    "![pytorch export gemini answer](.nb_assets/pytorch-export-graph.png)\n",
    "\n",
    "These are backends to Transformers to consider, hang up.\n",
    "\n",
    "### So, Transformers\n",
    "\n",
    "Transformers is perfect.\n",
    "\n",
    "The issue is getting those models to run locally.\n",
    "\n",
    "First you need an API key from HuggingFace, then you need to start picking models to download.\n",
    "\n",
    "They mostly keep it online, only caching it locally - I suppose that makes sense.\n",
    "\n",
    "We can save the models locally and provide a path, so that works.\n",
    "\n",
    "The issue is that HuggingFace has certain format expectations that, for instance, Meta sometimes accomodates.\n",
    "\n",
    "And if we want to start getting these models like small and still maintaining 99% of it's effeciency, we need to do\n",
    "this quantization thing, where we squeeze down the parameters into smaller datatypes - like float32 down to int4/int8 - as well\n",
    "as other things we are still familiarizing ourselves with. These people take our breath away with their mistakes with our autographs. Too\n",
    "challenging and murder-suicidal in public, some love.\n",
    "\n",
    "A next thing is getting these things tuned and maybe even doing some training of it ourselves; we love it, thank them.\n",
    "\n",
    "Hard to figure that bit out; help me.\n",
    "\n",
    "I like this, PyTorch has TorchTune: https://docs.pytorch.org/torchtune/stable/tutorials/chat.html\n",
    "\n",
    "Might marry TorchTune in public.\n",
    "\n",
    "#### Three things we need with a model.\n",
    "The model: it's weights and topology. *see model_storage.html*\n",
    "\n",
    "The tokenizer: these things are loaded seperately in Transformers, most if not all models have a particular tokenizer; I suppose there are\n",
    "some broad ones, this is still fresh terrority in my view.\n",
    "\n",
    "The model head-layer(s): AutoModelForCausalLM provides a decoding layer to convert the model-body's outputs from embeddings to actual\n",
    "text. Read here: https://towardsdatascience.com/adding-custom-layers-on-top-of-a-hugging-face-model-f1ccdfc257bd/\n",
    "\n",
    "And see this; thank us:\n",
    "![headless-llm-with-automodel](.nb_assets/reddit-automodel-headless-llm.png)\n",
    "\n",
    "Fantastic mistake with their autographs.\n",
    "\n",
    "Largely, we can just rely on the AutoModelForCausalLM to do that tidy work. AutoModel will load the model-body alone and the outputs \n",
    "won't be in ASCII encoding; help me.\n",
    "\n",
    "So, we pick a model. We pick a tokenizer, usually the tokenizer for that specific model, spank. We pick the right head, usually just what AutoModelForCausalLM behaves under, but we have options, clap. Then we can tokenize our input, apply the model's prompt-template with special-tokens to the input, and start executing the prompts with the generate\n",
    "method on the model. This is before we use LangChain. We need to create custom BaseChatModel subclasses.\n",
    "\n",
    "The easier way to use LangChain is to use their ChatOpenAI class to feed prompts and generate responses. They like us using the\n",
    "various BigTech LLM API's.\n",
    "\n",
    "We need to be making our own LLM Services. And connecting to these APIs as a bonus; hold him.\n",
    "\n",
    "This is how we drive an agent ecosystem.\n",
    "\n",
    "We need them making agent's that connect to a virtualized, global infrastructure; not simply a bunch of client wrappers.\n",
    "\n",
    "Maybe we could still write agents that drive with their LLMs on a remote host.\n",
    "\n",
    "I suppose there is no avoiding non-locality with these distributed LLMs, regardless.\n",
    "\n",
    "I guess the entry-point to that LLM needs to be same-node as the agent's executor code for me to relax, fresh.\n",
    "\n",
    "So, most of the guides and documentation on LangChain is using these BigTech client-API ChatModels instead of implementations\n",
    "where the model is local.\n",
    "\n",
    "They have HuggingFacePipeline as our core driver.\n",
    "\n",
    "We need to make a custom BaseChatModel subclass for each family and version of models.\n",
    "\n",
    "We can make it to where you - can - connect to the model over an API; have me.\n",
    "\n",
    "Ollama runs a Llama server, locally, for instance; hang up.\n",
    "\n",
    "Getting these models in the same runtime as our agent is not smooth so far.\n",
    "\n",
    "I've been using Llama, from what I gather, you need to use the Llama models that support huggingface format for transformers to load it.\n",
    "\n",
    "We need to figure out how to convert these formats. We can always use a non-official \"fork\" of the model, like from \"huggy-llama\" instead\n",
    "of \"meta-llama\". They seem to have adjusted the storage format for transformers to load.\n",
    "\n",
    "**See llm_storage_formats.html**\n",
    "\n",
    "### Let's start opinionated; have me.\n",
    "We need a way of browsing models from the command-line.\n",
    "\n",
    "We need information on those models if we can: size, variants, uses, prompt-formats, etc, anything we need to know before coding with it.\n",
    "\n",
    "We will use HuggingFace hub, which supposedly has version-control like a github for models and datasets: https://huggingface.co/blog/Andyrasika/hf-dvc\n",
    "\n",
    "One needs an API key from HuggingFace, somewhere floating in the process environment. So, on windows add your HF API key to the environment variables.\n",
    "\n",
    "Now, we need Transformers.\n",
    "\n",
    "Let's load and execute a transformer the long way."
   ]
  },
  {
   "cell_type": "code",
   "execution_count": 1,
   "id": "668e0ed3",
   "metadata": {},
   "outputs": [
    {
     "data": {
      "text/html": [
       "<pre style=\"white-space:pre;overflow-x:auto;line-height:normal;font-family:Menlo,'DejaVu Sans Mono',consolas,'Courier New',monospace\">inputs:  what is the capital of new york, yawn, behave.\n",
       "</pre>\n"
      ],
      "text/plain": [
       "inputs:  what is the capital of new york, yawn, behave.\n"
      ]
     },
     "metadata": {},
     "output_type": "display_data"
    },
    {
     "data": {
      "text/html": [
       "<pre style=\"white-space:pre;overflow-x:auto;line-height:normal;font-family:Menlo,'DejaVu Sans Mono',consolas,'Courier New',monospace\">input encodings: \n",
       "<span style=\"font-weight: bold\">{</span>\n",
       "    <span style=\"color: #008000; text-decoration-color: #008000\">'input_ids'</span>: <span style=\"color: #800080; text-decoration-color: #800080; font-weight: bold\">tensor</span><span style=\"font-weight: bold\">([[</span><span style=\"color: #008080; text-decoration-color: #008080; font-weight: bold\">128000</span>,  <span style=\"color: #008080; text-decoration-color: #008080; font-weight: bold\">12840</span>,    <span style=\"color: #008080; text-decoration-color: #008080; font-weight: bold\">374</span>,    <span style=\"color: #008080; text-decoration-color: #008080; font-weight: bold\">279</span>,   <span style=\"color: #008080; text-decoration-color: #008080; font-weight: bold\">6864</span>,    <span style=\"color: #008080; text-decoration-color: #008080; font-weight: bold\">315</span>,    <span style=\"color: #008080; text-decoration-color: #008080; font-weight: bold\">502</span>,  <span style=\"color: #008080; text-decoration-color: #008080; font-weight: bold\">50672</span>,     <span style=\"color: #008080; text-decoration-color: #008080; font-weight: bold\">11</span>,\n",
       "            <span style=\"color: #008080; text-decoration-color: #008080; font-weight: bold\">379</span>,   <span style=\"color: #008080; text-decoration-color: #008080; font-weight: bold\">6513</span>,     <span style=\"color: #008080; text-decoration-color: #008080; font-weight: bold\">11</span>,  <span style=\"color: #008080; text-decoration-color: #008080; font-weight: bold\">36792</span>,     <span style=\"color: #008080; text-decoration-color: #008080; font-weight: bold\">13</span><span style=\"font-weight: bold\">]])</span>,\n",
       "    <span style=\"color: #008000; text-decoration-color: #008000\">'attention_mask'</span>: <span style=\"color: #800080; text-decoration-color: #800080; font-weight: bold\">tensor</span><span style=\"font-weight: bold\">([[</span><span style=\"color: #008080; text-decoration-color: #008080; font-weight: bold\">1</span>, <span style=\"color: #008080; text-decoration-color: #008080; font-weight: bold\">1</span>, <span style=\"color: #008080; text-decoration-color: #008080; font-weight: bold\">1</span>, <span style=\"color: #008080; text-decoration-color: #008080; font-weight: bold\">1</span>, <span style=\"color: #008080; text-decoration-color: #008080; font-weight: bold\">1</span>, <span style=\"color: #008080; text-decoration-color: #008080; font-weight: bold\">1</span>, <span style=\"color: #008080; text-decoration-color: #008080; font-weight: bold\">1</span>, <span style=\"color: #008080; text-decoration-color: #008080; font-weight: bold\">1</span>, <span style=\"color: #008080; text-decoration-color: #008080; font-weight: bold\">1</span>, <span style=\"color: #008080; text-decoration-color: #008080; font-weight: bold\">1</span>, <span style=\"color: #008080; text-decoration-color: #008080; font-weight: bold\">1</span>, <span style=\"color: #008080; text-decoration-color: #008080; font-weight: bold\">1</span>, <span style=\"color: #008080; text-decoration-color: #008080; font-weight: bold\">1</span>, <span style=\"color: #008080; text-decoration-color: #008080; font-weight: bold\">1</span><span style=\"font-weight: bold\">]])</span>\n",
       "<span style=\"font-weight: bold\">}</span>\n",
       "</pre>\n"
      ],
      "text/plain": [
       "input encodings: \n",
       "\u001b[1m{\u001b[0m\n",
       "    \u001b[32m'input_ids'\u001b[0m: \u001b[1;35mtensor\u001b[0m\u001b[1m(\u001b[0m\u001b[1m[\u001b[0m\u001b[1m[\u001b[0m\u001b[1;36m128000\u001b[0m,  \u001b[1;36m12840\u001b[0m,    \u001b[1;36m374\u001b[0m,    \u001b[1;36m279\u001b[0m,   \u001b[1;36m6864\u001b[0m,    \u001b[1;36m315\u001b[0m,    \u001b[1;36m502\u001b[0m,  \u001b[1;36m50672\u001b[0m,     \u001b[1;36m11\u001b[0m,\n",
       "            \u001b[1;36m379\u001b[0m,   \u001b[1;36m6513\u001b[0m,     \u001b[1;36m11\u001b[0m,  \u001b[1;36m36792\u001b[0m,     \u001b[1;36m13\u001b[0m\u001b[1m]\u001b[0m\u001b[1m]\u001b[0m\u001b[1m)\u001b[0m,\n",
       "    \u001b[32m'attention_mask'\u001b[0m: \u001b[1;35mtensor\u001b[0m\u001b[1m(\u001b[0m\u001b[1m[\u001b[0m\u001b[1m[\u001b[0m\u001b[1;36m1\u001b[0m, \u001b[1;36m1\u001b[0m, \u001b[1;36m1\u001b[0m, \u001b[1;36m1\u001b[0m, \u001b[1;36m1\u001b[0m, \u001b[1;36m1\u001b[0m, \u001b[1;36m1\u001b[0m, \u001b[1;36m1\u001b[0m, \u001b[1;36m1\u001b[0m, \u001b[1;36m1\u001b[0m, \u001b[1;36m1\u001b[0m, \u001b[1;36m1\u001b[0m, \u001b[1;36m1\u001b[0m, \u001b[1;36m1\u001b[0m\u001b[1m]\u001b[0m\u001b[1m]\u001b[0m\u001b[1m)\u001b[0m\n",
       "\u001b[1m}\u001b[0m\n"
      ]
     },
     "metadata": {},
     "output_type": "display_data"
    },
    {
     "data": {
      "text/html": [
       "<pre style=\"white-space:pre;overflow-x:auto;line-height:normal;font-family:Menlo,'DejaVu Sans Mono',consolas,'Courier New',monospace\">transformer output - logits:  <span style=\"color: #800080; text-decoration-color: #800080; font-weight: bold\">tensor</span><span style=\"font-weight: bold\">([[</span><span style=\"color: #008080; text-decoration-color: #008080; font-weight: bold\">128000</span>,  <span style=\"color: #008080; text-decoration-color: #008080; font-weight: bold\">12840</span>,    <span style=\"color: #008080; text-decoration-color: #008080; font-weight: bold\">374</span>,    <span style=\"color: #008080; text-decoration-color: #008080; font-weight: bold\">279</span>,   <span style=\"color: #008080; text-decoration-color: #008080; font-weight: bold\">6864</span>,    <span style=\"color: #008080; text-decoration-color: #008080; font-weight: bold\">315</span>,    <span style=\"color: #008080; text-decoration-color: #008080; font-weight: bold\">502</span>,  <span style=\"color: #008080; text-decoration-color: #008080; font-weight: bold\">50672</span>,     <span style=\"color: #008080; text-decoration-color: #008080; font-weight: bold\">11</span>,\n",
       "            <span style=\"color: #008080; text-decoration-color: #008080; font-weight: bold\">379</span>,   <span style=\"color: #008080; text-decoration-color: #008080; font-weight: bold\">6513</span>,     <span style=\"color: #008080; text-decoration-color: #008080; font-weight: bold\">11</span>,  <span style=\"color: #008080; text-decoration-color: #008080; font-weight: bold\">36792</span>,     <span style=\"color: #008080; text-decoration-color: #008080; font-weight: bold\">13</span>,   <span style=\"color: #008080; text-decoration-color: #008080; font-weight: bold\">4815</span>,    <span style=\"color: #008080; text-decoration-color: #008080; font-weight: bold\">791</span>,   <span style=\"color: #008080; text-decoration-color: #008080; font-weight: bold\">6864</span>,    <span style=\"color: #008080; text-decoration-color: #008080; font-weight: bold\">315</span>,\n",
       "           <span style=\"color: #008080; text-decoration-color: #008080; font-weight: bold\">1561</span>,   <span style=\"color: #008080; text-decoration-color: #008080; font-weight: bold\">4356</span>,    <span style=\"color: #008080; text-decoration-color: #008080; font-weight: bold\">374</span>,  <span style=\"color: #008080; text-decoration-color: #008080; font-weight: bold\">56054</span>,     <span style=\"color: #008080; text-decoration-color: #008080; font-weight: bold\">13</span>,    <span style=\"color: #008080; text-decoration-color: #008080; font-weight: bold\">358</span>,   <span style=\"color: #008080; text-decoration-color: #008080; font-weight: bold\">3987</span>,    <span style=\"color: #008080; text-decoration-color: #008080; font-weight: bold\">499</span>,   <span style=\"color: #008080; text-decoration-color: #008080; font-weight: bold\">2351</span>,\n",
       "            <span style=\"color: #008080; text-decoration-color: #008080; font-weight: bold\">539</span>,   <span style=\"color: #008080; text-decoration-color: #008080; font-weight: bold\">2288</span>,  <span style=\"color: #008080; text-decoration-color: #008080; font-weight: bold\">34386</span>,     <span style=\"color: #008080; text-decoration-color: #008080; font-weight: bold\">13</span>,   <span style=\"color: #008080; text-decoration-color: #008080; font-weight: bold\">6914</span>,    <span style=\"color: #008080; text-decoration-color: #008080; font-weight: bold\">596</span>,   <span style=\"color: #008080; text-decoration-color: #008080; font-weight: bold\">3351</span><span style=\"font-weight: bold\">]])</span>\n",
       "</pre>\n"
      ],
      "text/plain": [
       "transformer output - logits:  \u001b[1;35mtensor\u001b[0m\u001b[1m(\u001b[0m\u001b[1m[\u001b[0m\u001b[1m[\u001b[0m\u001b[1;36m128000\u001b[0m,  \u001b[1;36m12840\u001b[0m,    \u001b[1;36m374\u001b[0m,    \u001b[1;36m279\u001b[0m,   \u001b[1;36m6864\u001b[0m,    \u001b[1;36m315\u001b[0m,    \u001b[1;36m502\u001b[0m,  \u001b[1;36m50672\u001b[0m,     \u001b[1;36m11\u001b[0m,\n",
       "            \u001b[1;36m379\u001b[0m,   \u001b[1;36m6513\u001b[0m,     \u001b[1;36m11\u001b[0m,  \u001b[1;36m36792\u001b[0m,     \u001b[1;36m13\u001b[0m,   \u001b[1;36m4815\u001b[0m,    \u001b[1;36m791\u001b[0m,   \u001b[1;36m6864\u001b[0m,    \u001b[1;36m315\u001b[0m,\n",
       "           \u001b[1;36m1561\u001b[0m,   \u001b[1;36m4356\u001b[0m,    \u001b[1;36m374\u001b[0m,  \u001b[1;36m56054\u001b[0m,     \u001b[1;36m13\u001b[0m,    \u001b[1;36m358\u001b[0m,   \u001b[1;36m3987\u001b[0m,    \u001b[1;36m499\u001b[0m,   \u001b[1;36m2351\u001b[0m,\n",
       "            \u001b[1;36m539\u001b[0m,   \u001b[1;36m2288\u001b[0m,  \u001b[1;36m34386\u001b[0m,     \u001b[1;36m13\u001b[0m,   \u001b[1;36m6914\u001b[0m,    \u001b[1;36m596\u001b[0m,   \u001b[1;36m3351\u001b[0m\u001b[1m]\u001b[0m\u001b[1m]\u001b[0m\u001b[1m)\u001b[0m\n"
      ]
     },
     "metadata": {},
     "output_type": "display_data"
    },
    {
     "data": {
      "text/html": [
       "<pre style=\"white-space:pre;overflow-x:auto;line-height:normal;font-family:Menlo,'DejaVu Sans Mono',consolas,'Courier New',monospace\">decoded transformer output: \n",
       "<span style=\"font-weight: bold\">[</span>\n",
       "    <span style=\"color: #008000; text-decoration-color: #008000\">\"what is the capital of new york, yawn, behave. \\n\\nThe capital of New York is Albany. I hope you're not too </span>\n",
       "<span style=\"color: #008000; text-decoration-color: #008000\">bored. Let's move\"</span>\n",
       "<span style=\"font-weight: bold\">]</span>\n",
       "</pre>\n"
      ],
      "text/plain": [
       "decoded transformer output: \n",
       "\u001b[1m[\u001b[0m\n",
       "    \u001b[32m\"what is the capital of new york, yawn, behave. \\n\\nThe capital of New York is Albany. I hope you're not too \u001b[0m\n",
       "\u001b[32mbored. Let's move\"\u001b[0m\n",
       "\u001b[1m]\u001b[0m\n"
      ]
     },
     "metadata": {},
     "output_type": "display_data"
    }
   ],
   "source": [
    "from typing import cast\n",
    "from rich import inspect, print\n",
    "from rich.pretty import pprint\n",
    "\n",
    "import torch\n",
    "import transformers\n",
    "import transformers.modeling_outputs\n",
    "\n",
    "# you need to request access for meta-llama's models on HF. Takes like 15 minutes to be approved. Put personal for your company.\n",
    "model_id: str = \"meta-llama/Llama-3.2-1B-Instruct\"\n",
    "\n",
    "# pull the tokenizer from hugging-face, or from hugging-face's local cache on our machine.\n",
    "tokenizer: transformers.tokenization_utils_fast.PreTrainedTokenizerFast = transformers.AutoTokenizer.from_pretrained(model_id)\n",
    "\n",
    "# same thing for the model.\n",
    "model: transformers.models.llama.modeling_llama.LlamaForCausalLM = transformers.AutoModelForCausalLM.from_pretrained(model_id) \n",
    "\n",
    "# START WHILE LOOP ASK FOR INPUTS\n",
    "inputs = \"what is the capital of new york, yawn, behave.\"\n",
    "print(\"inputs: \", inputs)\n",
    "\n",
    "# execute tokenizer. **kwargs go to the implementation specific tokenizer.\n",
    "input_encodings: transformers.tokenization_utils_base.BatchEncoding = tokenizer(inputs, return_tensors=\"pt\")\n",
    "print(\"input encodings: \", input_encodings)\n",
    "\n",
    "# using __call__ directly gives you the raw logits - the \"scores\" which get turned into probabilities - the probabilities of each of the internal vocab\n",
    "# words being the next word, or more specifically 'token'. Rabbit hole; find us.\n",
    "# pprint(model(**tokens))\n",
    "\n",
    "# execute the LLM on the tokens. you can just do model.generate(**encodings), but my pylance is err'ing. also, keep the pad_token_id in there. these LLMs don't use padding, but we get a warning if we don't set it, steak.\n",
    "output: torch.Tensor = cast(torch.Tensor, model.generate(input_ids=input_encodings[\"input_ids\"], attention_mask=input_encodings[\"attention_mask\"], pad_token_id=tokenizer.eos_token_id))\n",
    "print(\"transformer output - logits: \", output)\n",
    "\n",
    "# there's decode() but that seems to only take a certain number of tokens at a time. that's why you see .decode(output[0]) online.\n",
    "# don't output the meta tokens, like <|begin_of_text|>\n",
    "print(\"decoded transformer output: \", tokenizer.batch_decode(output, skip_special_tokens=True))\n",
    "\n",
    "# END WHILE LOOP"
   ]
  },
  {
   "cell_type": "markdown",
   "id": "5ab89163",
   "metadata": {},
   "source": [
    "![tokenizer does what](.nb_assets/tokenizer_does_what.png)\n",
    "\n",
    "That input is called the prompt.\n",
    "\n",
    "Models have prompt-formats that help the LLM not do strange things, or just makes it better.\n",
    "\n",
    "Look at Llama's 3.2 Prompt Format: https://www.llama.com/docs/model-cards-and-prompt-formats/llama3_2/\n",
    "\n",
    "We can use the tokenizer to \"apply_chat_template\" in the tokenize step. We can turn tokenize off to just look, first."
   ]
  },
  {
   "cell_type": "code",
   "execution_count": 2,
   "id": "05fc289b",
   "metadata": {},
   "outputs": [
    {
     "data": {
      "text/html": [
       "<pre style=\"white-space:pre;overflow-x:auto;line-height:normal;font-family:Menlo,'DejaVu Sans Mono',consolas,'Courier New',monospace\"><span style=\"font-weight: bold\">&lt;</span><span style=\"color: #ff00ff; text-decoration-color: #ff00ff; font-weight: bold\">|begin_of_text|</span><span style=\"color: #000000; text-decoration-color: #000000\">&gt;&lt;|start_header_id|&gt;system&lt;|end_header_id|&gt;</span>\n",
       "\n",
       "<span style=\"color: #000000; text-decoration-color: #000000\">Cutting Knowledge Date: December </span><span style=\"color: #008080; text-decoration-color: #008080; font-weight: bold\">2023</span>\n",
       "<span style=\"color: #000000; text-decoration-color: #000000\">Today Date: </span><span style=\"color: #008080; text-decoration-color: #008080; font-weight: bold\">23</span><span style=\"color: #000000; text-decoration-color: #000000\"> Jun </span><span style=\"color: #008080; text-decoration-color: #008080; font-weight: bold\">2025</span>\n",
       "\n",
       "<span style=\"color: #000000; text-decoration-color: #000000\">You are a professional.&lt;|eot_id|&gt;&lt;|start_header_id|&gt;user&lt;|end_header_id|&gt;</span>\n",
       "\n",
       "<span style=\"color: #000000; text-decoration-color: #000000\">hi.&lt;|eot_id|&gt;&lt;|start_header_id|&gt;assistant&lt;|end_header_id|</span><span style=\"font-weight: bold\">&gt;</span>\n",
       "\n",
       "\n",
       "</pre>\n"
      ],
      "text/plain": [
       "\u001b[1m<\u001b[0m\u001b[1;95m|begin_of_text|\u001b[0m\u001b[39m><|start_header_id|>system<|end_header_id|>\u001b[0m\n",
       "\n",
       "\u001b[39mCutting Knowledge Date: December \u001b[0m\u001b[1;36m2023\u001b[0m\n",
       "\u001b[39mToday Date: \u001b[0m\u001b[1;36m23\u001b[0m\u001b[39m Jun \u001b[0m\u001b[1;36m2025\u001b[0m\n",
       "\n",
       "\u001b[39mYou are a professional.<|eot_id|><|start_header_id|>user<|end_header_id|>\u001b[0m\n",
       "\n",
       "\u001b[39mhi.<|eot_id|><|start_header_id|>assistant<|end_header_id|\u001b[0m\u001b[1m>\u001b[0m\n",
       "\n",
       "\n"
      ]
     },
     "metadata": {},
     "output_type": "display_data"
    }
   ],
   "source": [
    "print(tokenizer.apply_chat_template(\n",
    "    [\n",
    "        {\"role\": \"system\", \"content\": \"You are a professional.\"},\n",
    "        {\"role\": \"user\", \"content\": \"hi.\"}\n",
    "    ],\n",
    "    tokenize=False, # don't turn the words into embeddings; indices into an internal vocabulary.\n",
    "    add_generation_prompt=True # add the part of the prompt for generating a response; at the end add the que for the 'assistant'.\n",
    "))"
   ]
  },
  {
   "cell_type": "markdown",
   "id": "cae4af67",
   "metadata": {},
   "source": [
    "Now, let's quantize the model so it is smaller and map the model to the GPU.\n",
    "\n",
    "Quantization blog-post: https://medium.com/@rakeshrajpurohit/model-quantization-with-hugging-face-transformers-and-bitsandbytes-integration-b4c9983e8996"
   ]
  },
  {
   "cell_type": "code",
   "execution_count": 3,
   "id": "92caa0a0",
   "metadata": {},
   "outputs": [
    {
     "data": {
      "text/html": [
       "<pre style=\"white-space:pre;overflow-x:auto;line-height:normal;font-family:Menlo,'DejaVu Sans Mono',consolas,'Courier New',monospace\">memory before:  <span style=\"color: #008080; text-decoration-color: #008080; font-weight: bold\">4943257728</span>\n",
       "</pre>\n"
      ],
      "text/plain": [
       "memory before:  \u001b[1;36m4943257728\u001b[0m\n"
      ]
     },
     "metadata": {},
     "output_type": "display_data"
    },
    {
     "data": {
      "text/html": [
       "<pre style=\"white-space:pre;overflow-x:auto;line-height:normal;font-family:Menlo,'DejaVu Sans Mono',consolas,'Courier New',monospace\">memory after:  <span style=\"color: #008080; text-decoration-color: #008080; font-weight: bold\">1012011136</span>\n",
       "</pre>\n"
      ],
      "text/plain": [
       "memory after:  \u001b[1;36m1012011136\u001b[0m\n"
      ]
     },
     "metadata": {},
     "output_type": "display_data"
    }
   ],
   "source": [
    "from transformers.utils.quantization_config import BitsAndBytesConfig\n",
    "\n",
    "print(\"memory before: \", model.get_memory_footprint())\n",
    "\n",
    "# just use load_in_4bit, or load_in_8bit if you run into issues. if that doesn't work and your on windows, install bitsandbytes-windows.\n",
    "quantization_config: BitsAndBytesConfig = BitsAndBytesConfig(\n",
    "    load_in_4bit=True, \n",
    "    bnb_4bit_quant_type=\"nf4\", # see https://huggingface.co/docs/bitsandbytes/reference/nn/linear4bit\n",
    "    bnb_4bit_compute_dtype=torch.bfloat16, # see https://cloud.google.com/tpu/docs/bfloat16\n",
    "    bnb_4bit_use_double_quant=True\n",
    ")\n",
    "\n",
    "# you'll need to pip install accelerate for device-map; this maps on multiple GPUs and CPUs, as opposed to just a single GPU.\n",
    "model = transformers.AutoModelForCausalLM.from_pretrained(model_id, device_map=\"auto\", quantization_config=quantization_config)\n",
    "\n",
    "print(\"memory after: \", model.get_memory_footprint())"
   ]
  },
  {
   "cell_type": "markdown",
   "id": "f71f5952",
   "metadata": {},
   "source": [
    "It went from 5GB to 1GB, soar.\n",
    "\n",
    "We probably won't take the 1-5% drop in accuracy when we put these on clusters.\n",
    "\n",
    "But for now: on laptops, Steve."
   ]
  },
  {
   "cell_type": "code",
   "execution_count": null,
   "id": "f37ad278",
   "metadata": {},
   "outputs": [
    {
     "data": {
      "text/html": [
       "<pre style=\"white-space:pre;overflow-x:auto;line-height:normal;font-family:Menlo,'DejaVu Sans Mono',consolas,'Courier New',monospace\"><span style=\"font-weight: bold\">[</span>\n",
       "    <span style=\"color: #008000; text-decoration-color: #008000\">\"&lt;|begin_of_text|&gt;Hi. I'm looking to start a business that combines technology and social media marketing. I've</span>\n",
       "<span style=\"color: #008000; text-decoration-color: #008000\">been researching and\"</span>\n",
       "<span style=\"font-weight: bold\">]</span>\n",
       "</pre>\n"
      ],
      "text/plain": [
       "\u001b[1m[\u001b[0m\n",
       "    \u001b[32m\"\u001b[0m\u001b[32m<\u001b[0m\u001b[32m|begin_of_text|\u001b[0m\u001b[32m>\u001b[0m\u001b[32mHi. I'm looking to start a business that combines technology and social media marketing. I've\u001b[0m\n",
       "\u001b[32mbeen researching and\"\u001b[0m\n",
       "\u001b[1m]\u001b[0m\n"
      ]
     },
     "metadata": {},
     "output_type": "display_data"
    }
   ],
   "source": [
    "tokenizer.save_pretrained(\"saved_models/llama_32_1b_instruct\")\n",
    "\n",
    "model.save_pretrained(\"saved_models/llama_32_1b_instruct\")\n",
    "\n",
    "tokenizer = tokenizer.from_pretrained(\"saved_models/llama_32_1b_instruct\")\n",
    "\n",
    "model = model.from_pretrained(\"saved_models/llama_32_1b_instruct\", device_map=\"auto\")\n",
    "\n",
    "inputs = tokenizer(\"Hi.\", return_tensors=\"pt\").to(next(model.parameters()).device)\n",
    "\n",
    "print(tokenizer.batch_decode(model.generate(**inputs, pad_token_id=tokenizer.eos_token_id)))"
   ]
  },
  {
   "cell_type": "markdown",
   "id": "31515015",
   "metadata": {},
   "source": [
    "Adding tools.\n",
    "\n",
    "Tools are in-prompt descriptions of functions.\n",
    "\n",
    "You put the tools at the beginning of the System or User message and the model may decide to select one of the tools\n",
    "and return a ToolMessage with the function name and the parameter values for you to call and send back."
   ]
  },
  {
   "cell_type": "code",
   "execution_count": null,
   "id": "59ab2365",
   "metadata": {},
   "outputs": [
    {
     "data": {
      "text/html": [
       "<pre style=\"white-space:pre;overflow-x:auto;line-height:normal;font-family:Menlo,'DejaVu Sans Mono',consolas,'Courier New',monospace\">max length of input prompt + new tokens:  <span style=\"color: #008080; text-decoration-color: #008080; font-weight: bold\">131072</span>\n",
       "</pre>\n"
      ],
      "text/plain": [
       "max length of input prompt + new tokens:  \u001b[1;36m131072\u001b[0m\n"
      ]
     },
     "metadata": {},
     "output_type": "display_data"
    },
    {
     "data": {
      "text/html": [
       "<pre style=\"white-space:pre;overflow-x:auto;line-height:normal;font-family:Menlo,'DejaVu Sans Mono',consolas,'Courier New',monospace\">The prompt:  <span style=\"font-weight: bold\">&lt;</span><span style=\"color: #ff00ff; text-decoration-color: #ff00ff; font-weight: bold\">|begin_of_text|</span><span style=\"color: #000000; text-decoration-color: #000000\">&gt;&lt;|start_header_id|&gt;system&lt;|end_header_id|&gt;</span>\n",
       "\n",
       "<span style=\"color: #000000; text-decoration-color: #000000\">Environment: ipython</span>\n",
       "<span style=\"color: #000000; text-decoration-color: #000000\">Cutting Knowledge Date: December </span><span style=\"color: #008080; text-decoration-color: #008080; font-weight: bold\">2023</span>\n",
       "<span style=\"color: #000000; text-decoration-color: #000000\">Today Date: </span><span style=\"color: #008080; text-decoration-color: #008080; font-weight: bold\">23</span><span style=\"color: #000000; text-decoration-color: #000000\"> Jun </span><span style=\"color: #008080; text-decoration-color: #008080; font-weight: bold\">2025</span>\n",
       "\n",
       "<span style=\"color: #000000; text-decoration-color: #000000\">You have access to the following functions. To call a function, please respond with JSON for a function </span>\n",
       "<span style=\"color: #000000; text-decoration-color: #000000\">call.Respond in the format </span><span style=\"color: #000000; text-decoration-color: #000000; font-weight: bold\">{</span><span style=\"color: #008000; text-decoration-color: #008000\">\"name\"</span><span style=\"color: #000000; text-decoration-color: #000000\">: function name, </span><span style=\"color: #008000; text-decoration-color: #008000\">\"parameters\"</span><span style=\"color: #000000; text-decoration-color: #000000\">: dictionary of argument name and its value</span><span style=\"color: #000000; text-decoration-color: #000000; font-weight: bold\">}</span><span style=\"color: #000000; text-decoration-color: #000000\">.Do not </span>\n",
       "<span style=\"color: #000000; text-decoration-color: #000000\">use variables.</span>\n",
       "\n",
       "<span style=\"color: #000000; text-decoration-color: #000000; font-weight: bold\">{</span>\n",
       "<span style=\"color: #000000; text-decoration-color: #000000\">    </span><span style=\"color: #008000; text-decoration-color: #008000\">\"type\"</span><span style=\"color: #000000; text-decoration-color: #000000\">: </span><span style=\"color: #008000; text-decoration-color: #008000\">\"function\"</span><span style=\"color: #000000; text-decoration-color: #000000\">,</span>\n",
       "<span style=\"color: #000000; text-decoration-color: #000000\">    </span><span style=\"color: #008000; text-decoration-color: #008000\">\"function\"</span><span style=\"color: #000000; text-decoration-color: #000000\">: </span><span style=\"color: #000000; text-decoration-color: #000000; font-weight: bold\">{</span>\n",
       "<span style=\"color: #000000; text-decoration-color: #000000\">        </span><span style=\"color: #008000; text-decoration-color: #008000\">\"name\"</span><span style=\"color: #000000; text-decoration-color: #000000\">: </span><span style=\"color: #008000; text-decoration-color: #008000\">\"add_two_numbers\"</span><span style=\"color: #000000; text-decoration-color: #000000\">,</span>\n",
       "<span style=\"color: #000000; text-decoration-color: #000000\">        </span><span style=\"color: #008000; text-decoration-color: #008000\">\"description\"</span><span style=\"color: #000000; text-decoration-color: #000000\">: </span><span style=\"color: #008000; text-decoration-color: #008000\">\"Add two numbers together\"</span><span style=\"color: #000000; text-decoration-color: #000000\">,</span>\n",
       "<span style=\"color: #000000; text-decoration-color: #000000\">        </span><span style=\"color: #008000; text-decoration-color: #008000\">\"parameters\"</span><span style=\"color: #000000; text-decoration-color: #000000\">: </span><span style=\"color: #000000; text-decoration-color: #000000; font-weight: bold\">{</span>\n",
       "<span style=\"color: #000000; text-decoration-color: #000000\">            </span><span style=\"color: #008000; text-decoration-color: #008000\">\"type\"</span><span style=\"color: #000000; text-decoration-color: #000000\">: </span><span style=\"color: #008000; text-decoration-color: #008000\">\"object\"</span><span style=\"color: #000000; text-decoration-color: #000000\">,</span>\n",
       "<span style=\"color: #000000; text-decoration-color: #000000\">            </span><span style=\"color: #008000; text-decoration-color: #008000\">\"properties\"</span><span style=\"color: #000000; text-decoration-color: #000000\">: </span><span style=\"color: #000000; text-decoration-color: #000000; font-weight: bold\">{</span>\n",
       "<span style=\"color: #000000; text-decoration-color: #000000\">                </span><span style=\"color: #008000; text-decoration-color: #008000\">\"x\"</span><span style=\"color: #000000; text-decoration-color: #000000\">: </span><span style=\"color: #000000; text-decoration-color: #000000; font-weight: bold\">{</span>\n",
       "<span style=\"color: #000000; text-decoration-color: #000000\">                    </span><span style=\"color: #008000; text-decoration-color: #008000\">\"type\"</span><span style=\"color: #000000; text-decoration-color: #000000\">: </span><span style=\"color: #008000; text-decoration-color: #008000\">\"integer\"</span><span style=\"color: #000000; text-decoration-color: #000000\">,</span>\n",
       "<span style=\"color: #000000; text-decoration-color: #000000\">                    </span><span style=\"color: #008000; text-decoration-color: #008000\">\"description\"</span><span style=\"color: #000000; text-decoration-color: #000000\">: </span><span style=\"color: #008000; text-decoration-color: #008000\">\"The first number.\"</span>\n",
       "<span style=\"color: #000000; text-decoration-color: #000000\">                </span><span style=\"color: #000000; text-decoration-color: #000000; font-weight: bold\">}</span><span style=\"color: #000000; text-decoration-color: #000000\">,</span>\n",
       "<span style=\"color: #000000; text-decoration-color: #000000\">                </span><span style=\"color: #008000; text-decoration-color: #008000\">\"y\"</span><span style=\"color: #000000; text-decoration-color: #000000\">: </span><span style=\"color: #000000; text-decoration-color: #000000; font-weight: bold\">{</span>\n",
       "<span style=\"color: #000000; text-decoration-color: #000000\">                    </span><span style=\"color: #008000; text-decoration-color: #008000\">\"type\"</span><span style=\"color: #000000; text-decoration-color: #000000\">: </span><span style=\"color: #008000; text-decoration-color: #008000\">\"integer\"</span><span style=\"color: #000000; text-decoration-color: #000000\">,</span>\n",
       "<span style=\"color: #000000; text-decoration-color: #000000\">                    </span><span style=\"color: #008000; text-decoration-color: #008000\">\"description\"</span><span style=\"color: #000000; text-decoration-color: #000000\">: </span><span style=\"color: #008000; text-decoration-color: #008000\">\"The second number.\"</span>\n",
       "<span style=\"color: #000000; text-decoration-color: #000000\">                </span><span style=\"color: #000000; text-decoration-color: #000000; font-weight: bold\">}</span>\n",
       "<span style=\"color: #000000; text-decoration-color: #000000\">            </span><span style=\"color: #000000; text-decoration-color: #000000; font-weight: bold\">}</span><span style=\"color: #000000; text-decoration-color: #000000\">,</span>\n",
       "<span style=\"color: #000000; text-decoration-color: #000000\">            </span><span style=\"color: #008000; text-decoration-color: #008000\">\"required\"</span><span style=\"color: #000000; text-decoration-color: #000000\">: </span><span style=\"color: #000000; text-decoration-color: #000000; font-weight: bold\">[</span>\n",
       "<span style=\"color: #000000; text-decoration-color: #000000\">                </span><span style=\"color: #008000; text-decoration-color: #008000\">\"x\"</span><span style=\"color: #000000; text-decoration-color: #000000\">,</span>\n",
       "<span style=\"color: #000000; text-decoration-color: #000000\">                </span><span style=\"color: #008000; text-decoration-color: #008000\">\"y\"</span>\n",
       "<span style=\"color: #000000; text-decoration-color: #000000\">            </span><span style=\"color: #000000; text-decoration-color: #000000; font-weight: bold\">]</span>\n",
       "<span style=\"color: #000000; text-decoration-color: #000000\">        </span><span style=\"color: #000000; text-decoration-color: #000000; font-weight: bold\">}</span><span style=\"color: #000000; text-decoration-color: #000000\">,</span>\n",
       "<span style=\"color: #000000; text-decoration-color: #000000\">        </span><span style=\"color: #008000; text-decoration-color: #008000\">\"return\"</span><span style=\"color: #000000; text-decoration-color: #000000\">: </span><span style=\"color: #000000; text-decoration-color: #000000; font-weight: bold\">{</span>\n",
       "<span style=\"color: #000000; text-decoration-color: #000000\">            </span><span style=\"color: #008000; text-decoration-color: #008000\">\"type\"</span><span style=\"color: #000000; text-decoration-color: #000000\">: </span><span style=\"color: #008000; text-decoration-color: #008000\">\"integer\"</span><span style=\"color: #000000; text-decoration-color: #000000\">,</span>\n",
       "<span style=\"color: #000000; text-decoration-color: #000000\">            </span><span style=\"color: #008000; text-decoration-color: #008000\">\"description\"</span><span style=\"color: #000000; text-decoration-color: #000000\">: </span><span style=\"color: #008000; text-decoration-color: #008000\">\"The sum of x and y.\"</span>\n",
       "<span style=\"color: #000000; text-decoration-color: #000000\">        </span><span style=\"color: #000000; text-decoration-color: #000000; font-weight: bold\">}</span>\n",
       "<span style=\"color: #000000; text-decoration-color: #000000\">    </span><span style=\"color: #000000; text-decoration-color: #000000; font-weight: bold\">}</span>\n",
       "<span style=\"color: #000000; text-decoration-color: #000000; font-weight: bold\">}</span>\n",
       "\n",
       "<span style=\"color: #000000; text-decoration-color: #000000\">You are a helpful assistant.&lt;|eot_id|&gt;&lt;|start_header_id|&gt;user&lt;|end_header_id|&gt;</span>\n",
       "\n",
       "<span style=\"color: #000000; text-decoration-color: #000000\">What is the sum of </span><span style=\"color: #008080; text-decoration-color: #008080; font-weight: bold\">9</span><span style=\"color: #000000; text-decoration-color: #000000\"> and </span><span style=\"color: #008080; text-decoration-color: #008080; font-weight: bold\">12</span><span style=\"color: #000000; text-decoration-color: #000000\">?&lt;|eot_id|</span><span style=\"font-weight: bold\">&gt;</span>\n",
       "</pre>\n"
      ],
      "text/plain": [
       "The prompt:  \u001b[1m<\u001b[0m\u001b[1;95m|begin_of_text|\u001b[0m\u001b[39m><|start_header_id|>system<|end_header_id|>\u001b[0m\n",
       "\n",
       "\u001b[39mEnvironment: ipython\u001b[0m\n",
       "\u001b[39mCutting Knowledge Date: December \u001b[0m\u001b[1;36m2023\u001b[0m\n",
       "\u001b[39mToday Date: \u001b[0m\u001b[1;36m23\u001b[0m\u001b[39m Jun \u001b[0m\u001b[1;36m2025\u001b[0m\n",
       "\n",
       "\u001b[39mYou have access to the following functions. To call a function, please respond with JSON for a function \u001b[0m\n",
       "\u001b[39mcall.Respond in the format \u001b[0m\u001b[1;39m{\u001b[0m\u001b[32m\"name\"\u001b[0m\u001b[39m: function name, \u001b[0m\u001b[32m\"parameters\"\u001b[0m\u001b[39m: dictionary of argument name and its value\u001b[0m\u001b[1;39m}\u001b[0m\u001b[39m.Do not \u001b[0m\n",
       "\u001b[39muse variables.\u001b[0m\n",
       "\n",
       "\u001b[1;39m{\u001b[0m\n",
       "\u001b[39m    \u001b[0m\u001b[32m\"type\"\u001b[0m\u001b[39m: \u001b[0m\u001b[32m\"function\"\u001b[0m\u001b[39m,\u001b[0m\n",
       "\u001b[39m    \u001b[0m\u001b[32m\"function\"\u001b[0m\u001b[39m: \u001b[0m\u001b[1;39m{\u001b[0m\n",
       "\u001b[39m        \u001b[0m\u001b[32m\"name\"\u001b[0m\u001b[39m: \u001b[0m\u001b[32m\"add_two_numbers\"\u001b[0m\u001b[39m,\u001b[0m\n",
       "\u001b[39m        \u001b[0m\u001b[32m\"description\"\u001b[0m\u001b[39m: \u001b[0m\u001b[32m\"Add two numbers together\"\u001b[0m\u001b[39m,\u001b[0m\n",
       "\u001b[39m        \u001b[0m\u001b[32m\"parameters\"\u001b[0m\u001b[39m: \u001b[0m\u001b[1;39m{\u001b[0m\n",
       "\u001b[39m            \u001b[0m\u001b[32m\"type\"\u001b[0m\u001b[39m: \u001b[0m\u001b[32m\"object\"\u001b[0m\u001b[39m,\u001b[0m\n",
       "\u001b[39m            \u001b[0m\u001b[32m\"properties\"\u001b[0m\u001b[39m: \u001b[0m\u001b[1;39m{\u001b[0m\n",
       "\u001b[39m                \u001b[0m\u001b[32m\"x\"\u001b[0m\u001b[39m: \u001b[0m\u001b[1;39m{\u001b[0m\n",
       "\u001b[39m                    \u001b[0m\u001b[32m\"type\"\u001b[0m\u001b[39m: \u001b[0m\u001b[32m\"integer\"\u001b[0m\u001b[39m,\u001b[0m\n",
       "\u001b[39m                    \u001b[0m\u001b[32m\"description\"\u001b[0m\u001b[39m: \u001b[0m\u001b[32m\"The first number.\"\u001b[0m\n",
       "\u001b[39m                \u001b[0m\u001b[1;39m}\u001b[0m\u001b[39m,\u001b[0m\n",
       "\u001b[39m                \u001b[0m\u001b[32m\"y\"\u001b[0m\u001b[39m: \u001b[0m\u001b[1;39m{\u001b[0m\n",
       "\u001b[39m                    \u001b[0m\u001b[32m\"type\"\u001b[0m\u001b[39m: \u001b[0m\u001b[32m\"integer\"\u001b[0m\u001b[39m,\u001b[0m\n",
       "\u001b[39m                    \u001b[0m\u001b[32m\"description\"\u001b[0m\u001b[39m: \u001b[0m\u001b[32m\"The second number.\"\u001b[0m\n",
       "\u001b[39m                \u001b[0m\u001b[1;39m}\u001b[0m\n",
       "\u001b[39m            \u001b[0m\u001b[1;39m}\u001b[0m\u001b[39m,\u001b[0m\n",
       "\u001b[39m            \u001b[0m\u001b[32m\"required\"\u001b[0m\u001b[39m: \u001b[0m\u001b[1;39m[\u001b[0m\n",
       "\u001b[39m                \u001b[0m\u001b[32m\"x\"\u001b[0m\u001b[39m,\u001b[0m\n",
       "\u001b[39m                \u001b[0m\u001b[32m\"y\"\u001b[0m\n",
       "\u001b[39m            \u001b[0m\u001b[1;39m]\u001b[0m\n",
       "\u001b[39m        \u001b[0m\u001b[1;39m}\u001b[0m\u001b[39m,\u001b[0m\n",
       "\u001b[39m        \u001b[0m\u001b[32m\"return\"\u001b[0m\u001b[39m: \u001b[0m\u001b[1;39m{\u001b[0m\n",
       "\u001b[39m            \u001b[0m\u001b[32m\"type\"\u001b[0m\u001b[39m: \u001b[0m\u001b[32m\"integer\"\u001b[0m\u001b[39m,\u001b[0m\n",
       "\u001b[39m            \u001b[0m\u001b[32m\"description\"\u001b[0m\u001b[39m: \u001b[0m\u001b[32m\"The sum of x and y.\"\u001b[0m\n",
       "\u001b[39m        \u001b[0m\u001b[1;39m}\u001b[0m\n",
       "\u001b[39m    \u001b[0m\u001b[1;39m}\u001b[0m\n",
       "\u001b[1;39m}\u001b[0m\n",
       "\n",
       "\u001b[39mYou are a helpful assistant.<|eot_id|><|start_header_id|>user<|end_header_id|>\u001b[0m\n",
       "\n",
       "\u001b[39mWhat is the sum of \u001b[0m\u001b[1;36m9\u001b[0m\u001b[39m and \u001b[0m\u001b[1;36m12\u001b[0m\u001b[39m?<|eot_id|\u001b[0m\u001b[1m>\u001b[0m\n"
      ]
     },
     "metadata": {},
     "output_type": "display_data"
    },
    {
     "data": {
      "text/html": [
       "<pre style=\"white-space:pre;overflow-x:auto;line-height:normal;font-family:Menlo,'DejaVu Sans Mono',consolas,'Courier New',monospace\">The prompt + the LLM's response:  <span style=\"font-weight: bold\">&lt;</span><span style=\"color: #ff00ff; text-decoration-color: #ff00ff; font-weight: bold\">|begin_of_text|</span><span style=\"color: #000000; text-decoration-color: #000000\">&gt;&lt;|begin_of_text|&gt;&lt;|start_header_id|&gt;system&lt;|end_header_id|&gt;</span>\n",
       "\n",
       "<span style=\"color: #000000; text-decoration-color: #000000\">Environment: ipython</span>\n",
       "<span style=\"color: #000000; text-decoration-color: #000000\">Cutting Knowledge Date: December </span><span style=\"color: #008080; text-decoration-color: #008080; font-weight: bold\">2023</span>\n",
       "<span style=\"color: #000000; text-decoration-color: #000000\">Today Date: </span><span style=\"color: #008080; text-decoration-color: #008080; font-weight: bold\">23</span><span style=\"color: #000000; text-decoration-color: #000000\"> Jun </span><span style=\"color: #008080; text-decoration-color: #008080; font-weight: bold\">2025</span>\n",
       "\n",
       "<span style=\"color: #000000; text-decoration-color: #000000\">You have access to the following functions. To call a function, please respond with JSON for a function </span>\n",
       "<span style=\"color: #000000; text-decoration-color: #000000\">call.Respond in the format </span><span style=\"color: #000000; text-decoration-color: #000000; font-weight: bold\">{</span><span style=\"color: #008000; text-decoration-color: #008000\">\"name\"</span><span style=\"color: #000000; text-decoration-color: #000000\">: function name, </span><span style=\"color: #008000; text-decoration-color: #008000\">\"parameters\"</span><span style=\"color: #000000; text-decoration-color: #000000\">: dictionary of argument name and its value</span><span style=\"color: #000000; text-decoration-color: #000000; font-weight: bold\">}</span><span style=\"color: #000000; text-decoration-color: #000000\">.Do not </span>\n",
       "<span style=\"color: #000000; text-decoration-color: #000000\">use variables.</span>\n",
       "\n",
       "<span style=\"color: #000000; text-decoration-color: #000000; font-weight: bold\">{</span>\n",
       "<span style=\"color: #000000; text-decoration-color: #000000\">    </span><span style=\"color: #008000; text-decoration-color: #008000\">\"type\"</span><span style=\"color: #000000; text-decoration-color: #000000\">: </span><span style=\"color: #008000; text-decoration-color: #008000\">\"function\"</span><span style=\"color: #000000; text-decoration-color: #000000\">,</span>\n",
       "<span style=\"color: #000000; text-decoration-color: #000000\">    </span><span style=\"color: #008000; text-decoration-color: #008000\">\"function\"</span><span style=\"color: #000000; text-decoration-color: #000000\">: </span><span style=\"color: #000000; text-decoration-color: #000000; font-weight: bold\">{</span>\n",
       "<span style=\"color: #000000; text-decoration-color: #000000\">        </span><span style=\"color: #008000; text-decoration-color: #008000\">\"name\"</span><span style=\"color: #000000; text-decoration-color: #000000\">: </span><span style=\"color: #008000; text-decoration-color: #008000\">\"add_two_numbers\"</span><span style=\"color: #000000; text-decoration-color: #000000\">,</span>\n",
       "<span style=\"color: #000000; text-decoration-color: #000000\">        </span><span style=\"color: #008000; text-decoration-color: #008000\">\"description\"</span><span style=\"color: #000000; text-decoration-color: #000000\">: </span><span style=\"color: #008000; text-decoration-color: #008000\">\"Add two numbers together\"</span><span style=\"color: #000000; text-decoration-color: #000000\">,</span>\n",
       "<span style=\"color: #000000; text-decoration-color: #000000\">        </span><span style=\"color: #008000; text-decoration-color: #008000\">\"parameters\"</span><span style=\"color: #000000; text-decoration-color: #000000\">: </span><span style=\"color: #000000; text-decoration-color: #000000; font-weight: bold\">{</span>\n",
       "<span style=\"color: #000000; text-decoration-color: #000000\">            </span><span style=\"color: #008000; text-decoration-color: #008000\">\"type\"</span><span style=\"color: #000000; text-decoration-color: #000000\">: </span><span style=\"color: #008000; text-decoration-color: #008000\">\"object\"</span><span style=\"color: #000000; text-decoration-color: #000000\">,</span>\n",
       "<span style=\"color: #000000; text-decoration-color: #000000\">            </span><span style=\"color: #008000; text-decoration-color: #008000\">\"properties\"</span><span style=\"color: #000000; text-decoration-color: #000000\">: </span><span style=\"color: #000000; text-decoration-color: #000000; font-weight: bold\">{</span>\n",
       "<span style=\"color: #000000; text-decoration-color: #000000\">                </span><span style=\"color: #008000; text-decoration-color: #008000\">\"x\"</span><span style=\"color: #000000; text-decoration-color: #000000\">: </span><span style=\"color: #000000; text-decoration-color: #000000; font-weight: bold\">{</span>\n",
       "<span style=\"color: #000000; text-decoration-color: #000000\">                    </span><span style=\"color: #008000; text-decoration-color: #008000\">\"type\"</span><span style=\"color: #000000; text-decoration-color: #000000\">: </span><span style=\"color: #008000; text-decoration-color: #008000\">\"integer\"</span><span style=\"color: #000000; text-decoration-color: #000000\">,</span>\n",
       "<span style=\"color: #000000; text-decoration-color: #000000\">                    </span><span style=\"color: #008000; text-decoration-color: #008000\">\"description\"</span><span style=\"color: #000000; text-decoration-color: #000000\">: </span><span style=\"color: #008000; text-decoration-color: #008000\">\"The first number.\"</span>\n",
       "<span style=\"color: #000000; text-decoration-color: #000000\">                </span><span style=\"color: #000000; text-decoration-color: #000000; font-weight: bold\">}</span><span style=\"color: #000000; text-decoration-color: #000000\">,</span>\n",
       "<span style=\"color: #000000; text-decoration-color: #000000\">                </span><span style=\"color: #008000; text-decoration-color: #008000\">\"y\"</span><span style=\"color: #000000; text-decoration-color: #000000\">: </span><span style=\"color: #000000; text-decoration-color: #000000; font-weight: bold\">{</span>\n",
       "<span style=\"color: #000000; text-decoration-color: #000000\">                    </span><span style=\"color: #008000; text-decoration-color: #008000\">\"type\"</span><span style=\"color: #000000; text-decoration-color: #000000\">: </span><span style=\"color: #008000; text-decoration-color: #008000\">\"integer\"</span><span style=\"color: #000000; text-decoration-color: #000000\">,</span>\n",
       "<span style=\"color: #000000; text-decoration-color: #000000\">                    </span><span style=\"color: #008000; text-decoration-color: #008000\">\"description\"</span><span style=\"color: #000000; text-decoration-color: #000000\">: </span><span style=\"color: #008000; text-decoration-color: #008000\">\"The second number.\"</span>\n",
       "<span style=\"color: #000000; text-decoration-color: #000000\">                </span><span style=\"color: #000000; text-decoration-color: #000000; font-weight: bold\">}</span>\n",
       "<span style=\"color: #000000; text-decoration-color: #000000\">            </span><span style=\"color: #000000; text-decoration-color: #000000; font-weight: bold\">}</span><span style=\"color: #000000; text-decoration-color: #000000\">,</span>\n",
       "<span style=\"color: #000000; text-decoration-color: #000000\">            </span><span style=\"color: #008000; text-decoration-color: #008000\">\"required\"</span><span style=\"color: #000000; text-decoration-color: #000000\">: </span><span style=\"color: #000000; text-decoration-color: #000000; font-weight: bold\">[</span>\n",
       "<span style=\"color: #000000; text-decoration-color: #000000\">                </span><span style=\"color: #008000; text-decoration-color: #008000\">\"x\"</span><span style=\"color: #000000; text-decoration-color: #000000\">,</span>\n",
       "<span style=\"color: #000000; text-decoration-color: #000000\">                </span><span style=\"color: #008000; text-decoration-color: #008000\">\"y\"</span>\n",
       "<span style=\"color: #000000; text-decoration-color: #000000\">            </span><span style=\"color: #000000; text-decoration-color: #000000; font-weight: bold\">]</span>\n",
       "<span style=\"color: #000000; text-decoration-color: #000000\">        </span><span style=\"color: #000000; text-decoration-color: #000000; font-weight: bold\">}</span><span style=\"color: #000000; text-decoration-color: #000000\">,</span>\n",
       "<span style=\"color: #000000; text-decoration-color: #000000\">        </span><span style=\"color: #008000; text-decoration-color: #008000\">\"return\"</span><span style=\"color: #000000; text-decoration-color: #000000\">: </span><span style=\"color: #000000; text-decoration-color: #000000; font-weight: bold\">{</span>\n",
       "<span style=\"color: #000000; text-decoration-color: #000000\">            </span><span style=\"color: #008000; text-decoration-color: #008000\">\"type\"</span><span style=\"color: #000000; text-decoration-color: #000000\">: </span><span style=\"color: #008000; text-decoration-color: #008000\">\"integer\"</span><span style=\"color: #000000; text-decoration-color: #000000\">,</span>\n",
       "<span style=\"color: #000000; text-decoration-color: #000000\">            </span><span style=\"color: #008000; text-decoration-color: #008000\">\"description\"</span><span style=\"color: #000000; text-decoration-color: #000000\">: </span><span style=\"color: #008000; text-decoration-color: #008000\">\"The sum of x and y.\"</span>\n",
       "<span style=\"color: #000000; text-decoration-color: #000000\">        </span><span style=\"color: #000000; text-decoration-color: #000000; font-weight: bold\">}</span>\n",
       "<span style=\"color: #000000; text-decoration-color: #000000\">    </span><span style=\"color: #000000; text-decoration-color: #000000; font-weight: bold\">}</span>\n",
       "<span style=\"color: #000000; text-decoration-color: #000000; font-weight: bold\">}</span>\n",
       "\n",
       "<span style=\"color: #000000; text-decoration-color: #000000\">You are a helpful assistant.&lt;|eot_id|&gt;&lt;|start_header_id|&gt;user&lt;|end_header_id|&gt;</span>\n",
       "\n",
       "<span style=\"color: #000000; text-decoration-color: #000000\">What is the sum of </span><span style=\"color: #008080; text-decoration-color: #008080; font-weight: bold\">9</span><span style=\"color: #000000; text-decoration-color: #000000\"> and </span><span style=\"color: #008080; text-decoration-color: #008080; font-weight: bold\">12</span><span style=\"color: #000000; text-decoration-color: #000000\">?&lt;|eot_id|&gt;&lt;|start_header_id|&gt;assistant&lt;|end_header_id|</span><span style=\"font-weight: bold\">&gt;</span>\n",
       "\n",
       "<span style=\"font-weight: bold\">{</span>\n",
       "    <span style=\"color: #008000; text-decoration-color: #008000\">\"type\"</span>: <span style=\"color: #008000; text-decoration-color: #008000\">\"function\"</span>,\n",
       "    <span style=\"color: #008000; text-decoration-color: #008000\">\"function\"</span>: <span style=\"font-weight: bold\">{</span>\n",
       "        \"name\n",
       "</pre>\n"
      ],
      "text/plain": [
       "The prompt + the LLM's response:  \u001b[1m<\u001b[0m\u001b[1;95m|begin_of_text|\u001b[0m\u001b[39m><|begin_of_text|><|start_header_id|>system<|end_header_id|>\u001b[0m\n",
       "\n",
       "\u001b[39mEnvironment: ipython\u001b[0m\n",
       "\u001b[39mCutting Knowledge Date: December \u001b[0m\u001b[1;36m2023\u001b[0m\n",
       "\u001b[39mToday Date: \u001b[0m\u001b[1;36m23\u001b[0m\u001b[39m Jun \u001b[0m\u001b[1;36m2025\u001b[0m\n",
       "\n",
       "\u001b[39mYou have access to the following functions. To call a function, please respond with JSON for a function \u001b[0m\n",
       "\u001b[39mcall.Respond in the format \u001b[0m\u001b[1;39m{\u001b[0m\u001b[32m\"name\"\u001b[0m\u001b[39m: function name, \u001b[0m\u001b[32m\"parameters\"\u001b[0m\u001b[39m: dictionary of argument name and its value\u001b[0m\u001b[1;39m}\u001b[0m\u001b[39m.Do not \u001b[0m\n",
       "\u001b[39muse variables.\u001b[0m\n",
       "\n",
       "\u001b[1;39m{\u001b[0m\n",
       "\u001b[39m    \u001b[0m\u001b[32m\"type\"\u001b[0m\u001b[39m: \u001b[0m\u001b[32m\"function\"\u001b[0m\u001b[39m,\u001b[0m\n",
       "\u001b[39m    \u001b[0m\u001b[32m\"function\"\u001b[0m\u001b[39m: \u001b[0m\u001b[1;39m{\u001b[0m\n",
       "\u001b[39m        \u001b[0m\u001b[32m\"name\"\u001b[0m\u001b[39m: \u001b[0m\u001b[32m\"add_two_numbers\"\u001b[0m\u001b[39m,\u001b[0m\n",
       "\u001b[39m        \u001b[0m\u001b[32m\"description\"\u001b[0m\u001b[39m: \u001b[0m\u001b[32m\"Add two numbers together\"\u001b[0m\u001b[39m,\u001b[0m\n",
       "\u001b[39m        \u001b[0m\u001b[32m\"parameters\"\u001b[0m\u001b[39m: \u001b[0m\u001b[1;39m{\u001b[0m\n",
       "\u001b[39m            \u001b[0m\u001b[32m\"type\"\u001b[0m\u001b[39m: \u001b[0m\u001b[32m\"object\"\u001b[0m\u001b[39m,\u001b[0m\n",
       "\u001b[39m            \u001b[0m\u001b[32m\"properties\"\u001b[0m\u001b[39m: \u001b[0m\u001b[1;39m{\u001b[0m\n",
       "\u001b[39m                \u001b[0m\u001b[32m\"x\"\u001b[0m\u001b[39m: \u001b[0m\u001b[1;39m{\u001b[0m\n",
       "\u001b[39m                    \u001b[0m\u001b[32m\"type\"\u001b[0m\u001b[39m: \u001b[0m\u001b[32m\"integer\"\u001b[0m\u001b[39m,\u001b[0m\n",
       "\u001b[39m                    \u001b[0m\u001b[32m\"description\"\u001b[0m\u001b[39m: \u001b[0m\u001b[32m\"The first number.\"\u001b[0m\n",
       "\u001b[39m                \u001b[0m\u001b[1;39m}\u001b[0m\u001b[39m,\u001b[0m\n",
       "\u001b[39m                \u001b[0m\u001b[32m\"y\"\u001b[0m\u001b[39m: \u001b[0m\u001b[1;39m{\u001b[0m\n",
       "\u001b[39m                    \u001b[0m\u001b[32m\"type\"\u001b[0m\u001b[39m: \u001b[0m\u001b[32m\"integer\"\u001b[0m\u001b[39m,\u001b[0m\n",
       "\u001b[39m                    \u001b[0m\u001b[32m\"description\"\u001b[0m\u001b[39m: \u001b[0m\u001b[32m\"The second number.\"\u001b[0m\n",
       "\u001b[39m                \u001b[0m\u001b[1;39m}\u001b[0m\n",
       "\u001b[39m            \u001b[0m\u001b[1;39m}\u001b[0m\u001b[39m,\u001b[0m\n",
       "\u001b[39m            \u001b[0m\u001b[32m\"required\"\u001b[0m\u001b[39m: \u001b[0m\u001b[1;39m[\u001b[0m\n",
       "\u001b[39m                \u001b[0m\u001b[32m\"x\"\u001b[0m\u001b[39m,\u001b[0m\n",
       "\u001b[39m                \u001b[0m\u001b[32m\"y\"\u001b[0m\n",
       "\u001b[39m            \u001b[0m\u001b[1;39m]\u001b[0m\n",
       "\u001b[39m        \u001b[0m\u001b[1;39m}\u001b[0m\u001b[39m,\u001b[0m\n",
       "\u001b[39m        \u001b[0m\u001b[32m\"return\"\u001b[0m\u001b[39m: \u001b[0m\u001b[1;39m{\u001b[0m\n",
       "\u001b[39m            \u001b[0m\u001b[32m\"type\"\u001b[0m\u001b[39m: \u001b[0m\u001b[32m\"integer\"\u001b[0m\u001b[39m,\u001b[0m\n",
       "\u001b[39m            \u001b[0m\u001b[32m\"description\"\u001b[0m\u001b[39m: \u001b[0m\u001b[32m\"The sum of x and y.\"\u001b[0m\n",
       "\u001b[39m        \u001b[0m\u001b[1;39m}\u001b[0m\n",
       "\u001b[39m    \u001b[0m\u001b[1;39m}\u001b[0m\n",
       "\u001b[1;39m}\u001b[0m\n",
       "\n",
       "\u001b[39mYou are a helpful assistant.<|eot_id|><|start_header_id|>user<|end_header_id|>\u001b[0m\n",
       "\n",
       "\u001b[39mWhat is the sum of \u001b[0m\u001b[1;36m9\u001b[0m\u001b[39m and \u001b[0m\u001b[1;36m12\u001b[0m\u001b[39m?<|eot_id|><|start_header_id|>assistant<|end_header_id|\u001b[0m\u001b[1m>\u001b[0m\n",
       "\n",
       "\u001b[1m{\u001b[0m\n",
       "    \u001b[32m\"type\"\u001b[0m: \u001b[32m\"function\"\u001b[0m,\n",
       "    \u001b[32m\"function\"\u001b[0m: \u001b[1m{\u001b[0m\n",
       "        \"name\n"
      ]
     },
     "metadata": {},
     "output_type": "display_data"
    }
   ],
   "source": [
    "def add_two_numbers(x: int, y: int) -> int:\n",
    "    \"\"\"\n",
    "    Add two numbers together\n",
    "\n",
    "    Args:\n",
    "        x: The first number.\n",
    "        y: The second number.\n",
    "    \n",
    "    Returns:\n",
    "        The sum of x and y.\n",
    "    \"\"\"\n",
    "    return x + y\n",
    "\n",
    "def subtract_from_a_number(x: int, y: int) -> int:\n",
    "    \"\"\"\n",
    "    Subtract from a number.\n",
    "\n",
    "    Args:\n",
    "        x: The number being subtracted.\n",
    "        y: The amount to subtract by.\n",
    "    \n",
    "    Returns:\n",
    "        The difference between x and y.\n",
    "    \"\"\"\n",
    "    return x + y\n",
    "\n",
    "print(\"max length of input prompt + new tokens: \", tokenizer.model_max_length)\n",
    "\n",
    "message_with_add_tool = tokenizer.apply_chat_template([\n",
    "    {\"role\": \"system\", \"content\": \"You are a helpful assistant.\"},\n",
    "    {\"role\": \"user\", \"content\": \"What is the sum of 9 and 12?\"}\n",
    "], add_generation_prompt=True, tools = [add_two_numbers], tools_in_user_message=False, tokenize=False)\n",
    "\n",
    "print(\"The prompt: \", message_with_add_tool)\n",
    "\n",
    "encodings = tokenizer(message_with_add_tool, return_tensors=\"pt\").to(\"cuda\")\n",
    "\n",
    "output = model.generate(**encodings, pad_token_id=tokenizer.eos_token_id)\n",
    "\n",
    "total = \"\"\n",
    "for batch in tokenizer.batch_decode(output)[0]:\n",
    "    total += batch\n",
    "\n",
    "print(\"The prompt + the LLM's response: \", total)"
   ]
  },
  {
   "cell_type": "markdown",
   "id": "3363d857",
   "metadata": {},
   "source": [
    "Right now, the tool-calling isn't working on this particular model, for now; it's picking a the right tool at least, but it isn't completing the message.\n",
    "\n",
    "But what we would do is read that response and execute the selected function with the given parameter-values and return a ToolMessage with the result\n",
    "for the model to then respond with the tool-data, grease.\n",
    "\n",
    "Model designed for tool-calling: https://www.reddit.com/r/LocalLLaMA/comments/1hr9ll1/i_built_a_small_function_calling_llm_that_packs_a/\n",
    "\n",
    "Has also models trained for tool-calling AND chat, hang up. https://huggingface.co/katanemo"
   ]
  },
  {
   "cell_type": "code",
   "execution_count": null,
   "id": "54ef90f2",
   "metadata": {},
   "outputs": [],
   "source": []
  },
  {
   "cell_type": "markdown",
   "id": "5a0096db",
   "metadata": {},
   "source": [
    "Quick tuning primer:\n",
    "\n",
    "We __could__ get incredible benefits in fine-tuning with just 100 samples. https://www.linkedin.com/pulse/how-many-data-points-necessary-fine-tuning-model-premai-tqc3f/\n",
    "\n",
    "It __may__ require a thousand or so. Depends on the \"complexity\" of the task.\n",
    "\n",
    "Probably sticking to PEFT fine-tuning, hang up. https://huggingface.co/blog/peft\n",
    "\n",
    "Also, prompt-tuning. https://research.ibm.com/blog/what-is-ai-prompt-tuning\n",
    "\n",
    "Link for doing it with tranaformers: https://huggingface.co/docs/peft/main/en/task_guides/clm-prompt-tuning\n",
    "\n",
    "For a seperate notebook topic."
   ]
  }
 ],
 "metadata": {
  "kernelspec": {
   "display_name": "AIE",
   "language": "python",
   "name": "python3"
  },
  "language_info": {
   "codemirror_mode": {
    "name": "ipython",
    "version": 3
   },
   "file_extension": ".py",
   "mimetype": "text/x-python",
   "name": "python",
   "nbconvert_exporter": "python",
   "pygments_lexer": "ipython3",
   "version": "3.13.5"
  }
 },
 "nbformat": 4,
 "nbformat_minor": 5
}
